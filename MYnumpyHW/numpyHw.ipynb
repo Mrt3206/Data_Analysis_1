{
 "cells": [
  {
   "cell_type": "code",
   "execution_count": null,
   "metadata": {},
   "outputs": [],
   "source": [
    "#1.\n",
    "\"\"\" Bir vektör tek boyutlu bir dizidir(array). \n",
    "(satır ve sutun vektörleri arasında herhangi bir fark yoktur.)\n",
    "Ancak bir matris iki boyutlu bir dizidir.\n",
    "3-Boyutlu veya daha yüksek boyutlu diziler için tensor kavramı kullanılır.\"\"\""
   ]
  },
  {
   "cell_type": "code",
   "execution_count": 1,
   "metadata": {},
   "outputs": [
    {
     "data": {
      "text/plain": [
       "array([0, 1, 2, 3, 4, 5, 6, 7, 8, 9])"
      ]
     },
     "execution_count": 1,
     "metadata": {},
     "output_type": "execute_result"
    }
   ],
   "source": [
    "#2.\n",
    "import numpy as np\n",
    "a_list=[0,1,2,3,4,5,6,7,8,9]\n",
    "an_array=np.array(a_list)\n",
    "an_array\n",
    "\n"
   ]
  },
  {
   "cell_type": "code",
   "execution_count": 9,
   "metadata": {},
   "outputs": [
    {
     "name": "stdout",
     "output_type": "stream",
     "text": [
      "\n",
      "[[0 0 0 0 0 0 0 0 0 0]\n",
      " [0 0 0 0 0 0 0 0 0 0]\n",
      " [0 0 0 0 0 0 0 0 0 0]\n",
      " [0 0 0 0 0 0 0 0 0 0]\n",
      " [0 0 0 0 0 0 0 0 0 0]\n",
      " [0 0 0 0 0 0 0 0 0 0]\n",
      " [0 0 0 0 0 0 0 0 0 0]\n",
      " [0 0 0 0 0 0 0 0 0 0]\n",
      " [0 0 0 0 0 0 0 0 0 0]\n",
      " [0 0 0 0 0 0 0 0 0 0]]\n",
      "Number of elements in a= 100\n",
      "Number of dimensions in a= 2\n",
      "Rows and Columns in a (10, 10)\n",
      "\n"
     ]
    }
   ],
   "source": [
    "#3.\n",
    "from display_shape import display_shape\n",
    "a_matrix=np.zeros((10,10), dtype=int)\n",
    "display_shape(a_matrix)"
   ]
  },
  {
   "cell_type": "code",
   "execution_count": 8,
   "metadata": {},
   "outputs": [
    {
     "name": "stdout",
     "output_type": "stream",
     "text": [
      "\n",
      "[[1. 1. 1. 1. 1. 1. 1. 1. 1. 1.]\n",
      " [1. 1. 1. 1. 1. 1. 1. 1. 1. 1.]\n",
      " [1. 1. 1. 1. 1. 1. 1. 1. 1. 1.]\n",
      " [1. 1. 1. 1. 1. 1. 1. 1. 1. 1.]\n",
      " [1. 1. 1. 1. 1. 1. 1. 1. 1. 1.]\n",
      " [1. 1. 1. 1. 1. 1. 1. 1. 1. 1.]\n",
      " [1. 1. 1. 1. 1. 1. 1. 1. 1. 1.]\n",
      " [1. 1. 1. 1. 1. 1. 1. 1. 1. 1.]\n",
      " [1. 1. 1. 1. 1. 1. 1. 1. 1. 1.]\n",
      " [1. 1. 1. 1. 1. 1. 1. 1. 1. 1.]]\n",
      "Number of elements in a= 100\n",
      "Number of dimensions in a= 2\n",
      "Rows and Columns in a (10, 10)\n",
      "\n"
     ]
    }
   ],
   "source": [
    "#4.\n",
    "a_matrix=np.ones((10,10))\n",
    "display_shape(a_matrix)"
   ]
  },
  {
   "cell_type": "code",
   "execution_count": 2,
   "metadata": {},
   "outputs": [
    {
     "name": "stdout",
     "output_type": "stream",
     "text": [
      "\n",
      "[[9 9 9 9 9 9 9 9 9 9]\n",
      " [9 9 9 9 9 9 9 9 9 9]\n",
      " [9 9 9 9 9 9 9 9 9 9]\n",
      " [9 9 9 9 9 9 9 9 9 9]\n",
      " [9 9 9 9 9 9 9 9 9 9]\n",
      " [9 9 9 9 9 9 9 9 9 9]\n",
      " [9 9 9 9 9 9 9 9 9 9]\n",
      " [9 9 9 9 9 9 9 9 9 9]\n",
      " [9 9 9 9 9 9 9 9 9 9]\n",
      " [9 9 9 9 9 9 9 9 9 9]]\n",
      "Number of elements in a= 100\n",
      "Number of dimensions in a= 2\n",
      "Rows and Columns in a (10, 10)\n",
      "\n"
     ]
    }
   ],
   "source": [
    "import numpy as np\n",
    "from display_shape import display_shape\n",
    "#5.\n",
    "#a_matrix=np.ones((10,10),dtype=int)\n",
    "#display_shape(9*a_matrix)\n",
    "a_matrix=np.full((10,10),9)\n",
    "display_shape(a_matrix)"
   ]
  },
  {
   "cell_type": "code",
   "execution_count": 14,
   "metadata": {},
   "outputs": [
    {
     "name": "stdout",
     "output_type": "stream",
     "text": [
      "\n",
      "[ 5  8 11 14 17 20 23]\n",
      "Number of elements in a= 7\n",
      "Number of dimensions in a= 1\n",
      "Rows and Columns in a (7,)\n",
      "\n"
     ]
    }
   ],
   "source": [
    "#6.\n",
    "a_array=np.arange(5,25,3)\n",
    "display_shape(a_array)"
   ]
  },
  {
   "cell_type": "code",
   "execution_count": 3,
   "metadata": {},
   "outputs": [
    {
     "name": "stdout",
     "output_type": "stream",
     "text": [
      "\n",
      "[-1.         -0.93103448 -0.86206897 -0.79310345 -0.72413793 -0.65517241\n",
      " -0.5862069  -0.51724138 -0.44827586 -0.37931034 -0.31034483 -0.24137931\n",
      " -0.17241379 -0.10344828 -0.03448276  0.03448276  0.10344828  0.17241379\n",
      "  0.24137931  0.31034483  0.37931034  0.44827586  0.51724138  0.5862069\n",
      "  0.65517241  0.72413793  0.79310345  0.86206897  0.93103448  1.        ]\n",
      "Number of elements in a= 30\n",
      "Number of dimensions in a= 1\n",
      "Rows and Columns in a (30,)\n",
      "\n"
     ]
    }
   ],
   "source": [
    "#7.\n",
    "a_array=np.linspace(-1,1,30)\n",
    "display_shape(a_array)\n"
   ]
  },
  {
   "cell_type": "code",
   "execution_count": 11,
   "metadata": {},
   "outputs": [
    {
     "name": "stdout",
     "output_type": "stream",
     "text": [
      "\n",
      "[[ 0  0  2 18 28  3]\n",
      " [11  9 29  7 21 18]\n",
      " [14  1 26 23  8 15]\n",
      " [21 27  4 11 16 21]\n",
      " [16  8 22 16  6 20]]\n",
      "Number of elements in a= 30\n",
      "Number of dimensions in a= 2\n",
      "Rows and Columns in a (5, 6)\n",
      "\n"
     ]
    }
   ],
   "source": [
    "#8.\n",
    "a_matrix=np.random.randint(0,30,(5,6))\n",
    "display_shape(a_matrix)"
   ]
  },
  {
   "cell_type": "code",
   "execution_count": 15,
   "metadata": {},
   "outputs": [
    {
     "name": "stdout",
     "output_type": "stream",
     "text": [
      "\n",
      "[[1 9 9 9 9 9 9 9 9 9]\n",
      " [9 1 9 9 9 9 9 9 9 9]\n",
      " [9 9 1 9 9 9 9 9 9 9]\n",
      " [9 9 9 1 9 9 9 9 9 9]\n",
      " [9 9 9 9 1 9 9 9 9 9]\n",
      " [9 9 9 9 9 1 9 9 9 9]\n",
      " [9 9 9 9 9 9 1 9 9 9]\n",
      " [9 9 9 9 9 9 9 1 9 9]\n",
      " [9 9 9 9 9 9 9 9 1 9]\n",
      " [9 9 9 9 9 9 9 9 9 1]]\n",
      "Number of elements in a= 100\n",
      "Number of dimensions in a= 2\n",
      "Rows and Columns in a (10, 10)\n",
      "\n"
     ]
    }
   ],
   "source": [
    "#9.\n",
    "a_matrix=np.full((10,10),9)\n",
    "np.fill_diagonal(a_matrix,1)\n",
    "display_shape(a_matrix)\n"
   ]
  },
  {
   "cell_type": "code",
   "execution_count": 18,
   "metadata": {},
   "outputs": [
    {
     "name": "stdout",
     "output_type": "stream",
     "text": [
      "[[4 4 7 8 6 1 0 7 7 4]\n",
      " [1 5 5 4 0 9 4 6 6 6]\n",
      " [2 3 3 8 9 9 7 8 6 0]\n",
      " [1 0 9 5 3 7 3 9 3 2]\n",
      " [8 4 2 2 3 1 0 2 3 8]]\n",
      "50\n",
      "2\n",
      "(5, 10)\n",
      "int32\n"
     ]
    }
   ],
   "source": [
    "#10.\n",
    "import numpy as np\n",
    "a_matrix=np.random.randint(0,10,(5,10))\n",
    "print(a_matrix)\n",
    "print(a_matrix.size)\n",
    "print(a_matrix.ndim)\n",
    "print(a_matrix.shape)\n",
    "print(a_matrix.dtype)\n",
    "\n"
   ]
  },
  {
   "cell_type": "code",
   "execution_count": 33,
   "metadata": {},
   "outputs": [
    {
     "data": {
      "text/plain": [
       "array([[[5, 0, 3, 3, 7, 9, 3],\n",
       "        [5, 2, 4, 7, 6, 8, 8],\n",
       "        [1, 6, 7, 7, 8, 1, 5],\n",
       "        [9, 8, 9, 4, 3, 0, 3]],\n",
       "\n",
       "       [[5, 0, 2, 3, 8, 1, 3],\n",
       "        [3, 3, 7, 0, 1, 9, 9],\n",
       "        [0, 4, 7, 3, 2, 7, 2],\n",
       "        [0, 0, 4, 5, 5, 6, 8]],\n",
       "\n",
       "       [[4, 1, 4, 9, 8, 1, 1],\n",
       "        [7, 9, 9, 3, 6, 7, 2],\n",
       "        [0, 3, 5, 9, 4, 4, 6],\n",
       "        [4, 4, 3, 4, 4, 8, 4]]])"
      ]
     },
     "execution_count": 33,
     "metadata": {},
     "output_type": "execute_result"
    }
   ],
   "source": [
    "#11.\n",
    "import numpy as np\n",
    "np.random.seed(0)\n",
    "x3=np.random.randint(10,size=(3,4,7))\n",
    "x3"
   ]
  },
  {
   "cell_type": "code",
   "execution_count": 4,
   "metadata": {},
   "outputs": [
    {
     "name": "stdout",
     "output_type": "stream",
     "text": [
      "[ 0  1  2  3  4  5  6  7  8  9 10 11]\n",
      "[[ 0  1  2  3]\n",
      " [ 4  5  6  7]\n",
      " [ 8  9 10 11]]\n"
     ]
    }
   ],
   "source": [
    "#12.\n",
    "import numpy as np\n",
    "a_array=np.arange(12)\n",
    "print(a_array)\n",
    "a_matrix=a_array.reshape(3,4)\n",
    "print(a_matrix)\n"
   ]
  },
  {
   "cell_type": "code",
   "execution_count": 3,
   "metadata": {},
   "outputs": [
    {
     "name": "stdout",
     "output_type": "stream",
     "text": [
      "\n",
      "[0 1 2 3 0 1 2 3 0 1 2 3 0 1 2 3]\n",
      "Number of elements in a= 16\n",
      "Number of dimensions in a= 1\n",
      "Rows and Columns in a (16,)\n",
      "\n"
     ]
    }
   ],
   "source": [
    "#13.\n",
    "import numpy as np\n",
    "from display_shape import display_shape\n",
    "x1=np.arange(4)\n",
    "x2=np.arange(4)\n",
    "x3=np.arange(4)\n",
    "x4=np.arange(4)\n",
    "a=np.concatenate([x1,x2,x3,x4])\n",
    "display_shape(a)\n"
   ]
  },
  {
   "cell_type": "code",
   "execution_count": 15,
   "metadata": {},
   "outputs": [
    {
     "name": "stdout",
     "output_type": "stream",
     "text": [
      "\n",
      "[[0]\n",
      " [1]\n",
      " [2]]\n",
      "Number of elements in a= 3\n",
      "Number of dimensions in a= 2\n",
      "Rows and Columns in a (3, 1)\n",
      "\n",
      "\n",
      "[[0 1 2]\n",
      " [3 4 5]\n",
      " [6 7 8]]\n",
      "Number of elements in a= 9\n",
      "Number of dimensions in a= 2\n",
      "Rows and Columns in a (3, 3)\n",
      "\n",
      "\n",
      "[[0 0 1 2]\n",
      " [1 3 4 5]\n",
      " [2 6 7 8]]\n",
      "Number of elements in a= 12\n",
      "Number of dimensions in a= 2\n",
      "Rows and Columns in a (3, 4)\n",
      "\n"
     ]
    }
   ],
   "source": [
    "#14.\n",
    "x1=np.arange(3).reshape(3,1)\n",
    "display_shape(x1)\n",
    "x2=np.arange(9).reshape(3,3)\n",
    "display_shape(x2)\n",
    "#a=np.hstack([x1,x2])\n",
    "a=np.concatenate([x1,x2],axis=1)\n",
    "display_shape(a)"
   ]
  },
  {
   "cell_type": "code",
   "execution_count": null,
   "metadata": {},
   "outputs": [],
   "source": [
    "#15.\n",
    "\"\"\"Axis bir arrayin boyutu anlamındadır. İki boyutlu bir vektörde, axis 0 satırları, axis 1 sütunları gösterir. \"\"\""
   ]
  },
  {
   "cell_type": "code",
   "execution_count": 1,
   "metadata": {},
   "outputs": [
    {
     "name": "stdout",
     "output_type": "stream",
     "text": [
      "\n",
      "[[ 5  0  3  3 12  1]\n",
      " [ 7  9  3  5  6  7]\n",
      " [ 2  4  7  6 14 17]]\n",
      "Number of elements in a= 18\n",
      "Number of dimensions in a= 2\n",
      "Rows and Columns in a (3, 6)\n",
      "\n",
      "\n",
      "[[ 5 13  8]\n",
      " [ 9 19 16]\n",
      " [19  5 15]\n",
      " [15  0 18]\n",
      " [ 3  8  1]\n",
      " [ 3  3  3]]\n",
      "Number of elements in a= 18\n",
      "Number of dimensions in a= 2\n",
      "Rows and Columns in a (6, 3)\n",
      "\n"
     ]
    }
   ],
   "source": [
    "#16.\n",
    "import numpy as np\n",
    "from display_shape import display_shape\n",
    "\n",
    "np.random.seed(0)\n",
    "a1=np.random.randint(0,10,(3,4))\n",
    "a11=np.random.randint(0,20,(3,2))\n",
    "a2=np.random.randint(0,20,(4,3))\n",
    "a22=np.random.randint(0,10,(2,3))\n",
    "\n",
    "a3=np.concatenate((a1,a11),axis=1)\n",
    "display_shape(a3)\n",
    "a4=np.concatenate((a2,a22),axis=0)\n",
    "display_shape(a4)\n"
   ]
  },
  {
   "cell_type": "code",
   "execution_count": 5,
   "metadata": {},
   "outputs": [
    {
     "name": "stdout",
     "output_type": "stream",
     "text": [
      "\n",
      "[0 1 2 3 4 5 6 7 8 9]\n",
      "Number of elements in a= 10\n",
      "Number of dimensions in a= 1\n",
      "Rows and Columns in a (10,)\n",
      "\n",
      "[0 1] [2 3] [4 5] [6 7] [8 9]\n"
     ]
    }
   ],
   "source": [
    "#17.\n",
    "a_array=np.arange(10)\n",
    "display_shape(a_array)\n",
    "a1,a2,a3,a4,a5=np.split(a_array,[2,4,6,8])\n",
    "print(a1,a2,a3,a4,a5)"
   ]
  },
  {
   "cell_type": "code",
   "execution_count": 40,
   "metadata": {},
   "outputs": [
    {
     "name": "stdout",
     "output_type": "stream",
     "text": [
      "\n",
      "[[5 0 3]\n",
      " [3 7 9]\n",
      " [3 5 2]\n",
      " [4 7 6]]\n",
      "Number of elements in a= 12\n",
      "Number of dimensions in a= 2\n",
      "Rows and Columns in a (4, 3)\n",
      "\n",
      "[[3 0 2]\n",
      " [3 5 3]\n",
      " [4 7 6]\n",
      " [5 7 9]]\n",
      "\n",
      "[[1 2 0]\n",
      " [0 2 1]\n",
      " [0 2 1]\n",
      " [0 1 2]]\n"
     ]
    }
   ],
   "source": [
    "#18.\n",
    "np.random.seed(0)\n",
    "a1=np.random.randint(0,10,(4,3))\n",
    "display_shape(a1)\n",
    "a1.sort(axis=0)\n",
    "print(a1,end=\"\\n\\n\")\n",
    "print(a1.argsort())"
   ]
  },
  {
   "cell_type": "code",
   "execution_count": 47,
   "metadata": {},
   "outputs": [
    {
     "name": "stdout",
     "output_type": "stream",
     "text": [
      "[5 0 3 3 7 9 3 5 2 4 7 6 8 8 1 6 7 7 8 1]\n",
      "3 7 3\n"
     ]
    }
   ],
   "source": [
    "#19.\n",
    "np.random.seed(0)\n",
    "a1=np.random.randint(0,10,size=20)\n",
    "print(a1)\n",
    "print(a1[2],a1[4],a1[6])"
   ]
  },
  {
   "cell_type": "code",
   "execution_count": 49,
   "metadata": {},
   "outputs": [
    {
     "name": "stdout",
     "output_type": "stream",
     "text": [
      "[5 0 3 3 7 9 3 5 2 4]\n",
      "[  5   0   3   3   7 999   3   5   2   4]\n"
     ]
    }
   ],
   "source": [
    "#20.\n",
    "np.random.seed(0)\n",
    "a1=np.random.randint(0,10,size=10)\n",
    "print(a1)\n",
    "a1[5]=999\n",
    "print(a1)"
   ]
  },
  {
   "cell_type": "code",
   "execution_count": null,
   "metadata": {},
   "outputs": [],
   "source": [
    "#21.\n",
    "\"\"\"Bir Diagonal Matrix kare matris olup diagonal yani köşegeni harici tüm elemanları dısır olan matristir. \n",
    "Bir kare matrisinin köşegenlerinin toplamına Trace of Matrix denir.\"\"\""
   ]
  },
  {
   "cell_type": "code",
   "execution_count": 53,
   "metadata": {},
   "outputs": [
    {
     "name": "stdout",
     "output_type": "stream",
     "text": [
      "\n",
      "[[1 0 0 0 0]\n",
      " [0 1 0 0 0]\n",
      " [0 0 1 0 0]\n",
      " [0 0 0 1 0]\n",
      " [0 0 0 0 1]]\n",
      "Number of elements in a= 25\n",
      "Number of dimensions in a= 2\n",
      "Rows and Columns in a (5, 5)\n",
      "\n",
      "1 1 1\n",
      "1 1\n"
     ]
    }
   ],
   "source": [
    "#22.\n",
    "a_matrix=np.full((5,5),0)\n",
    "np.fill_diagonal(a_matrix,1)\n",
    "display_shape(a_matrix)\n",
    "print(a_matrix[0,0],a_matrix[1,1],a_matrix[2,2])\n",
    "print(a_matrix[3,3],a_matrix[4,4])"
   ]
  },
  {
   "cell_type": "code",
   "execution_count": 56,
   "metadata": {},
   "outputs": [
    {
     "name": "stdout",
     "output_type": "stream",
     "text": [
      "[15 10 13 13 17 19 13 15 12 14]\n",
      "[13 17 19 13 15 12 14]\n"
     ]
    }
   ],
   "source": [
    "#23.\n",
    "np.random.seed(0)\n",
    "a1=np.random.randint(10,20,size=10)\n",
    "print(a1)\n",
    "print(a1[3:])"
   ]
  },
  {
   "cell_type": "code",
   "execution_count": 75,
   "metadata": {},
   "outputs": [
    {
     "name": "stdout",
     "output_type": "stream",
     "text": [
      "[[182  57 127  77 113  19  31  46  97  80]\n",
      " [ 98 150  68  49  97 184  98  91 175  35]\n",
      " [ 87  82  19 158 125  89 185  92 109 187]\n",
      " [ 39 157 157 152 177  42  19 195 137  42]\n",
      " [ 41 161 173 124 193  38  44 138 138 174]\n",
      " [ 63 143  48  27  89 142 115  52 196  41]\n",
      " [130  11  75 179  67  45 112 129  21 184]\n",
      " [ 92 101 138 152 109  63 150 131 180  94]\n",
      " [ 78  16  57 137 141 110 190  88 153 158]\n",
      " [196  33 151 127  95  58  59  79 179 173]]\n",
      "\n",
      "[ 98 150  68  49  97 184  98  91 175  35]\n",
      "[113  97 125 177 193  89  67 109 141  95]\n",
      "125\n",
      "[[ 98 150  68  49  97 184  98  91 175  35]\n",
      " [ 87  82  19 158 125  89 185  92 109 187]\n",
      " [ 39 157 157 152 177  42  19 195 137  42]\n",
      " [ 41 161 173 124 193  38  44 138 138 174]\n",
      " [ 63 143  48  27  89 142 115  52 196  41]\n",
      " [130  11  75 179  67  45 112 129  21 184]]\n",
      "[[158 125  89 185]\n",
      " [152 177  42  19]\n",
      " [124 193  38  44]]\n",
      "\n",
      "[[ 63 143  48  27]\n",
      " [130  11  75 179]\n",
      " [ 92 101 138 152]\n",
      " [ 78  16  57 137]\n",
      " [196  33 151 127]]\n",
      "[[ 77  31  80]\n",
      " [ 49  98  35]\n",
      " [158 185 187]\n",
      " [152  19  42]\n",
      " [124  44 174]\n",
      " [ 27 115  41]\n",
      " [179 112 184]\n",
      " [152 150  94]\n",
      " [137 190 158]\n",
      " [127  59 173]]\n",
      "\n",
      "[[ 182   57  127   77  113   19   31   46   97   80]\n",
      " [  98  150   68   49   97  184   98   91  175   35]\n",
      " [  87   82   19  158  125   89  185   92  109  187]\n",
      " [  39  157  157  152  177   42   19  195  137   42]\n",
      " [  41  161  173  124  193   38   44  138  138  174]\n",
      " [  63  143   48   27   89 1979  115   52  196   41]\n",
      " [ 130   11   75  179   67   45  112  129   21  184]\n",
      " [  92  101  138  152  109   63  150  131  180   94]\n",
      " [  78   16   57  137  141  110  190   88  153  158]\n",
      " [ 196   33  151  127   95   58   59   79  179  173]]\n",
      "\n"
     ]
    }
   ],
   "source": [
    "#24.\n",
    "np.random.seed(0)\n",
    "a1=np.random.randint(10,200,size=(10,10))\n",
    "print(a1,end=\"\\n\\n\")\n",
    "print(a1[1,:])\n",
    "print(a1[:,4])\n",
    "print(a1[2,4])\n",
    "print(a1[1:7,:])\n",
    "print(a1[2:5,3:7],end=\"\\n\\n\")\n",
    "print(a1[5:,:4])\n",
    "print(a1[:,3::3],end=\"\\n\\n\")\n",
    "a1[5,5]=1979\n",
    "print(a1,end=\"\\n\\n\")"
   ]
  },
  {
   "cell_type": "code",
   "execution_count": 86,
   "metadata": {},
   "outputs": [
    {
     "name": "stdout",
     "output_type": "stream",
     "text": [
      "[ 0  5 10 15 20 25 30 35 40 45]\n",
      "5\n",
      "6\n",
      "0\n",
      "[  0  25  50  75 100 125 150 175 200 225]\n",
      "[0 1 0 1 0 1 0 1 0 1]\n"
     ]
    }
   ],
   "source": [
    "#25.\n",
    "a1=np.arange(0,50,5)\n",
    "print(a1)\n",
    "print(np.count_nonzero(a1>20))\n",
    "print(np.count_nonzero(a1<30))\n",
    "print(np.count_nonzero(a1==33))\n",
    "print(a1*5)\n",
    "print(a1%2)\n",
    "\n"
   ]
  },
  {
   "cell_type": "code",
   "execution_count": 97,
   "metadata": {},
   "outputs": [
    {
     "name": "stdout",
     "output_type": "stream",
     "text": [
      "[0.5488135  0.71518937 0.60276338 0.54488318 0.4236548  0.64589411\n",
      " 0.43758721 0.891773   0.96366276 0.38344152 0.79172504 0.52889492\n",
      " 0.56804456 0.92559664 0.07103606 0.0871293  0.0202184  0.83261985\n",
      " 0.77815675 0.87001215 0.97861834 0.79915856 0.46147936 0.78052918\n",
      " 0.11827443 0.63992102 0.14335329 0.94466892 0.52184832 0.41466194\n",
      " 0.26455561 0.77423369 0.45615033 0.56843395 0.0187898  0.6176355\n",
      " 0.61209572 0.616934   0.94374808 0.6818203  0.3595079  0.43703195\n",
      " 0.6976312  0.06022547 0.66676672 0.67063787 0.21038256 0.1289263\n",
      " 0.31542835 0.36371077]\n",
      "\n",
      "0.5379651182755409\n",
      "\n",
      "0.27226582292177587\n",
      "\n",
      "0.0741286783312718\n",
      "\n",
      "0.5682392549812905\n",
      "\n",
      "0.018789800436355142\n",
      "\n",
      "0.978618342232764\n",
      "\n"
     ]
    }
   ],
   "source": [
    "#26.\n",
    "np.random.seed(0)\n",
    "a1=np.random.random(50)\n",
    "print(a1,end=\"\\n\\n\")\n",
    "print(a1.mean(),end=\"\\n\\n\")\n",
    "print(np.std(a1),end=\"\\n\\n\")\n",
    "print(np.var(a1),end=\"\\n\\n\")\n",
    "print(np.median(a1),end=\"\\n\\n\")\n",
    "print(a1.min(),end=\"\\n\\n\")\n",
    "print(a1.max(),end=\"\\n\\n\")\n"
   ]
  },
  {
   "cell_type": "code",
   "execution_count": 103,
   "metadata": {},
   "outputs": [],
   "source": [
    "#masterodev.\n",
    "import numpy as np\n",
    "import time\n",
    "start_time = time.time()\n",
    "count = 0\n",
    "# flag = 1\n",
    "num = 20\n",
    "while True:\n",
    "    count += 1\n",
    "    mat_1 = np.random.rand(num,num)\n",
    "    # print('mat1', mat_1 )\n",
    "    mat_2 = np.random.rand(num,num)\n",
    "    # print('mat2', mat_2 )\n",
    "    diago = np.diag(mat_1 - mat_2)\n",
    "    # print('diago', diago)\n",
    "    if (np.all((diago > -0.1) & (diago < 0.1)))==True:\n",
    "        t2=time.time()\n",
    "        print('I got it!')\n",
    "        print('diago', diago)\n",
    "        break\n",
    "    #if 10 < diago.any() and diago.any() < 10:\n",
    "        #print('I got it!')\n",
    "        ##print('diago', diago)\n",
    "        #break\n",
    "    #else:\n",
    "        #continue\n",
    "finish_time = time.time()\n",
    "print('Elapsed Time : ', finish_time - start_time )\n",
    "print()\n",
    "print('Loop Number  : ', count)\n",
    "print()\n",
    "print('Matris       : ', mat_1 - mat_2)\n",
    "print()"
   ]
  }
 ],
 "metadata": {
  "kernelspec": {
   "display_name": "Python 3.9.12 64-bit",
   "language": "python",
   "name": "python3"
  },
  "language_info": {
   "codemirror_mode": {
    "name": "ipython",
    "version": 3
   },
   "file_extension": ".py",
   "mimetype": "text/x-python",
   "name": "python",
   "nbconvert_exporter": "python",
   "pygments_lexer": "ipython3",
   "version": "3.9.12"
  },
  "orig_nbformat": 4,
  "vscode": {
   "interpreter": {
    "hash": "8524bb94f7d59c8879262837f48ac7ff80a0ba347969bee7729c2184f63e59c7"
   }
  }
 },
 "nbformat": 4,
 "nbformat_minor": 2
}
