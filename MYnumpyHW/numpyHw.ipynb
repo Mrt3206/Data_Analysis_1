{
 "cells": [
  {
   "cell_type": "code",
   "execution_count": null,
   "metadata": {},
   "outputs": [],
   "source": [
    "#1.\n",
    "\"\"\" Bir vektör tek boyutlu bir dizidir(array). \n",
    "(satır ve sutun vektörleri arasında herhangi bir fark yoktur.)\n",
    "Ancak bir matris iki boyutlu bir dizidir.\n",
    "3-Boyutlu veya daha yüksek boyutlu diziler için tensor kavramı kullanılır.\"\"\""
   ]
  },
  {
   "cell_type": "code",
   "execution_count": 1,
   "metadata": {},
   "outputs": [
    {
     "data": {
      "text/plain": [
       "array([0, 1, 2, 3, 4, 5, 6, 7, 8, 9])"
      ]
     },
     "execution_count": 1,
     "metadata": {},
     "output_type": "execute_result"
    }
   ],
   "source": [
    "#2.\n",
    "import numpy as np\n",
    "a_list=[0,1,2,3,4,5,6,7,8,9]\n",
    "an_array=np.array(a_list)\n",
    "an_array\n",
    "\n"
   ]
  },
  {
   "cell_type": "code",
   "execution_count": 9,
   "metadata": {},
   "outputs": [
    {
     "name": "stdout",
     "output_type": "stream",
     "text": [
      "\n",
      "[[0 0 0 0 0 0 0 0 0 0]\n",
      " [0 0 0 0 0 0 0 0 0 0]\n",
      " [0 0 0 0 0 0 0 0 0 0]\n",
      " [0 0 0 0 0 0 0 0 0 0]\n",
      " [0 0 0 0 0 0 0 0 0 0]\n",
      " [0 0 0 0 0 0 0 0 0 0]\n",
      " [0 0 0 0 0 0 0 0 0 0]\n",
      " [0 0 0 0 0 0 0 0 0 0]\n",
      " [0 0 0 0 0 0 0 0 0 0]\n",
      " [0 0 0 0 0 0 0 0 0 0]]\n",
      "Number of elements in a= 100\n",
      "Number of dimensions in a= 2\n",
      "Rows and Columns in a (10, 10)\n",
      "\n"
     ]
    }
   ],
   "source": [
    "#3.\n",
    "from display_shape import display_shape\n",
    "a_matrix=np.zeros((10,10), dtype=int)\n",
    "display_shape(a_matrix)"
   ]
  },
  {
   "cell_type": "code",
   "execution_count": 8,
   "metadata": {},
   "outputs": [
    {
     "name": "stdout",
     "output_type": "stream",
     "text": [
      "\n",
      "[[1. 1. 1. 1. 1. 1. 1. 1. 1. 1.]\n",
      " [1. 1. 1. 1. 1. 1. 1. 1. 1. 1.]\n",
      " [1. 1. 1. 1. 1. 1. 1. 1. 1. 1.]\n",
      " [1. 1. 1. 1. 1. 1. 1. 1. 1. 1.]\n",
      " [1. 1. 1. 1. 1. 1. 1. 1. 1. 1.]\n",
      " [1. 1. 1. 1. 1. 1. 1. 1. 1. 1.]\n",
      " [1. 1. 1. 1. 1. 1. 1. 1. 1. 1.]\n",
      " [1. 1. 1. 1. 1. 1. 1. 1. 1. 1.]\n",
      " [1. 1. 1. 1. 1. 1. 1. 1. 1. 1.]\n",
      " [1. 1. 1. 1. 1. 1. 1. 1. 1. 1.]]\n",
      "Number of elements in a= 100\n",
      "Number of dimensions in a= 2\n",
      "Rows and Columns in a (10, 10)\n",
      "\n"
     ]
    }
   ],
   "source": [
    "#4.\n",
    "a_matrix=np.ones((10,10))\n",
    "display_shape(a_matrix)"
   ]
  },
  {
   "cell_type": "code",
   "execution_count": 2,
   "metadata": {},
   "outputs": [
    {
     "name": "stdout",
     "output_type": "stream",
     "text": [
      "\n",
      "[[9 9 9 9 9 9 9 9 9 9]\n",
      " [9 9 9 9 9 9 9 9 9 9]\n",
      " [9 9 9 9 9 9 9 9 9 9]\n",
      " [9 9 9 9 9 9 9 9 9 9]\n",
      " [9 9 9 9 9 9 9 9 9 9]\n",
      " [9 9 9 9 9 9 9 9 9 9]\n",
      " [9 9 9 9 9 9 9 9 9 9]\n",
      " [9 9 9 9 9 9 9 9 9 9]\n",
      " [9 9 9 9 9 9 9 9 9 9]\n",
      " [9 9 9 9 9 9 9 9 9 9]]\n",
      "Number of elements in a= 100\n",
      "Number of dimensions in a= 2\n",
      "Rows and Columns in a (10, 10)\n",
      "\n"
     ]
    }
   ],
   "source": [
    "import numpy as np\n",
    "from display_shape import display_shape\n",
    "#5.\n",
    "#a_matrix=np.ones((10,10),dtype=int)\n",
    "#display_shape(9*a_matrix)\n",
    "a_matrix=np.full((10,10),9)\n",
    "display_shape(a_matrix)"
   ]
  },
  {
   "cell_type": "code",
   "execution_count": 14,
   "metadata": {},
   "outputs": [
    {
     "name": "stdout",
     "output_type": "stream",
     "text": [
      "\n",
      "[ 5  8 11 14 17 20 23]\n",
      "Number of elements in a= 7\n",
      "Number of dimensions in a= 1\n",
      "Rows and Columns in a (7,)\n",
      "\n"
     ]
    }
   ],
   "source": [
    "#6.\n",
    "a_array=np.arange(5,25,3)\n",
    "display_shape(a_array)"
   ]
  },
  {
   "cell_type": "code",
   "execution_count": 3,
   "metadata": {},
   "outputs": [
    {
     "name": "stdout",
     "output_type": "stream",
     "text": [
      "\n",
      "[-1.         -0.93103448 -0.86206897 -0.79310345 -0.72413793 -0.65517241\n",
      " -0.5862069  -0.51724138 -0.44827586 -0.37931034 -0.31034483 -0.24137931\n",
      " -0.17241379 -0.10344828 -0.03448276  0.03448276  0.10344828  0.17241379\n",
      "  0.24137931  0.31034483  0.37931034  0.44827586  0.51724138  0.5862069\n",
      "  0.65517241  0.72413793  0.79310345  0.86206897  0.93103448  1.        ]\n",
      "Number of elements in a= 30\n",
      "Number of dimensions in a= 1\n",
      "Rows and Columns in a (30,)\n",
      "\n"
     ]
    }
   ],
   "source": [
    "#7.\n",
    "a_array=np.linspace(-1,1,30)\n",
    "display_shape(a_array)\n"
   ]
  },
  {
   "cell_type": "code",
   "execution_count": 11,
   "metadata": {},
   "outputs": [
    {
     "name": "stdout",
     "output_type": "stream",
     "text": [
      "\n",
      "[[ 0  0  2 18 28  3]\n",
      " [11  9 29  7 21 18]\n",
      " [14  1 26 23  8 15]\n",
      " [21 27  4 11 16 21]\n",
      " [16  8 22 16  6 20]]\n",
      "Number of elements in a= 30\n",
      "Number of dimensions in a= 2\n",
      "Rows and Columns in a (5, 6)\n",
      "\n"
     ]
    }
   ],
   "source": [
    "#8.\n",
    "a_matrix=np.random.randint(0,30,(5,6))\n",
    "display_shape(a_matrix)"
   ]
  },
  {
   "cell_type": "code",
   "execution_count": 15,
   "metadata": {},
   "outputs": [
    {
     "name": "stdout",
     "output_type": "stream",
     "text": [
      "\n",
      "[[1 9 9 9 9 9 9 9 9 9]\n",
      " [9 1 9 9 9 9 9 9 9 9]\n",
      " [9 9 1 9 9 9 9 9 9 9]\n",
      " [9 9 9 1 9 9 9 9 9 9]\n",
      " [9 9 9 9 1 9 9 9 9 9]\n",
      " [9 9 9 9 9 1 9 9 9 9]\n",
      " [9 9 9 9 9 9 1 9 9 9]\n",
      " [9 9 9 9 9 9 9 1 9 9]\n",
      " [9 9 9 9 9 9 9 9 1 9]\n",
      " [9 9 9 9 9 9 9 9 9 1]]\n",
      "Number of elements in a= 100\n",
      "Number of dimensions in a= 2\n",
      "Rows and Columns in a (10, 10)\n",
      "\n"
     ]
    }
   ],
   "source": [
    "#9.\n",
    "a_matrix=np.full((10,10),9)\n",
    "np.fill_diagonal(a_matrix,1)\n",
    "display_shape(a_matrix)\n"
   ]
  },
  {
   "cell_type": "code",
   "execution_count": 18,
   "metadata": {},
   "outputs": [
    {
     "name": "stdout",
     "output_type": "stream",
     "text": [
      "[[4 4 7 8 6 1 0 7 7 4]\n",
      " [1 5 5 4 0 9 4 6 6 6]\n",
      " [2 3 3 8 9 9 7 8 6 0]\n",
      " [1 0 9 5 3 7 3 9 3 2]\n",
      " [8 4 2 2 3 1 0 2 3 8]]\n",
      "50\n",
      "2\n",
      "(5, 10)\n",
      "int32\n"
     ]
    }
   ],
   "source": [
    "#10.\n",
    "import numpy as np\n",
    "a_matrix=np.random.randint(0,10,(5,10))\n",
    "print(a_matrix)\n",
    "print(a_matrix.size)\n",
    "print(a_matrix.ndim)\n",
    "print(a_matrix.shape)\n",
    "print(a_matrix.dtype)\n",
    "\n"
   ]
  },
  {
   "cell_type": "code",
   "execution_count": 33,
   "metadata": {},
   "outputs": [
    {
     "data": {
      "text/plain": [
       "array([[[5, 0, 3, 3, 7, 9, 3],\n",
       "        [5, 2, 4, 7, 6, 8, 8],\n",
       "        [1, 6, 7, 7, 8, 1, 5],\n",
       "        [9, 8, 9, 4, 3, 0, 3]],\n",
       "\n",
       "       [[5, 0, 2, 3, 8, 1, 3],\n",
       "        [3, 3, 7, 0, 1, 9, 9],\n",
       "        [0, 4, 7, 3, 2, 7, 2],\n",
       "        [0, 0, 4, 5, 5, 6, 8]],\n",
       "\n",
       "       [[4, 1, 4, 9, 8, 1, 1],\n",
       "        [7, 9, 9, 3, 6, 7, 2],\n",
       "        [0, 3, 5, 9, 4, 4, 6],\n",
       "        [4, 4, 3, 4, 4, 8, 4]]])"
      ]
     },
     "execution_count": 33,
     "metadata": {},
     "output_type": "execute_result"
    }
   ],
   "source": [
    "#11.\n",
    "import numpy as np\n",
    "np.random.seed(0)\n",
    "x3=np.random.randint(10,size=(3,4,7))\n",
    "x3"
   ]
  },
  {
   "cell_type": "code",
   "execution_count": 4,
   "metadata": {},
   "outputs": [
    {
     "name": "stdout",
     "output_type": "stream",
     "text": [
      "[ 0  1  2  3  4  5  6  7  8  9 10 11]\n",
      "[[ 0  1  2  3]\n",
      " [ 4  5  6  7]\n",
      " [ 8  9 10 11]]\n"
     ]
    }
   ],
   "source": [
    "#12.\n",
    "import numpy as np\n",
    "a_array=np.arange(12)\n",
    "print(a_array)\n",
    "a_matrix=a_array.reshape(3,4)\n",
    "print(a_matrix)\n"
   ]
  },
  {
   "cell_type": "code",
   "execution_count": 3,
   "metadata": {},
   "outputs": [
    {
     "name": "stdout",
     "output_type": "stream",
     "text": [
      "\n",
      "[0 1 2 3 0 1 2 3 0 1 2 3 0 1 2 3]\n",
      "Number of elements in a= 16\n",
      "Number of dimensions in a= 1\n",
      "Rows and Columns in a (16,)\n",
      "\n"
     ]
    }
   ],
   "source": [
    "#13.\n",
    "import numpy as np\n",
    "from display_shape import display_shape\n",
    "x1=np.arange(4)\n",
    "x2=np.arange(4)\n",
    "x3=np.arange(4)\n",
    "x4=np.arange(4)\n",
    "a=np.concatenate([x1,x2,x3,x4])\n",
    "display_shape(a)\n"
   ]
  },
  {
   "cell_type": "code",
   "execution_count": 15,
   "metadata": {},
   "outputs": [
    {
     "name": "stdout",
     "output_type": "stream",
     "text": [
      "\n",
      "[[0]\n",
      " [1]\n",
      " [2]]\n",
      "Number of elements in a= 3\n",
      "Number of dimensions in a= 2\n",
      "Rows and Columns in a (3, 1)\n",
      "\n",
      "\n",
      "[[0 1 2]\n",
      " [3 4 5]\n",
      " [6 7 8]]\n",
      "Number of elements in a= 9\n",
      "Number of dimensions in a= 2\n",
      "Rows and Columns in a (3, 3)\n",
      "\n",
      "\n",
      "[[0 0 1 2]\n",
      " [1 3 4 5]\n",
      " [2 6 7 8]]\n",
      "Number of elements in a= 12\n",
      "Number of dimensions in a= 2\n",
      "Rows and Columns in a (3, 4)\n",
      "\n"
     ]
    }
   ],
   "source": [
    "#14.\n",
    "x1=np.arange(3).reshape(3,1)\n",
    "display_shape(x1)\n",
    "x2=np.arange(9).reshape(3,3)\n",
    "display_shape(x2)\n",
    "#a=np.hstack([x1,x2])\n",
    "a=np.concatenate([x1,x2],axis=1)\n",
    "display_shape(a)"
   ]
  },
  {
   "cell_type": "code",
   "execution_count": null,
   "metadata": {},
   "outputs": [],
   "source": [
    "#15.\n",
    "\"\"\"Axis bir arrayin boyutu anlamındadır. İki boyutlu bir vektörde, axis 0 satırları, axis 1 sütunları gösterir. \"\"\""
   ]
  },
  {
   "cell_type": "code",
   "execution_count": 1,
   "metadata": {},
   "outputs": [
    {
     "name": "stdout",
     "output_type": "stream",
     "text": [
      "\n",
      "[[ 5  0  3  3 12  1]\n",
      " [ 7  9  3  5  6  7]\n",
      " [ 2  4  7  6 14 17]]\n",
      "Number of elements in a= 18\n",
      "Number of dimensions in a= 2\n",
      "Rows and Columns in a (3, 6)\n",
      "\n",
      "\n",
      "[[ 5 13  8]\n",
      " [ 9 19 16]\n",
      " [19  5 15]\n",
      " [15  0 18]\n",
      " [ 3  8  1]\n",
      " [ 3  3  3]]\n",
      "Number of elements in a= 18\n",
      "Number of dimensions in a= 2\n",
      "Rows and Columns in a (6, 3)\n",
      "\n"
     ]
    }
   ],
   "source": [
    "#16.\n",
    "import numpy as np\n",
    "from display_shape import display_shape\n",
    "\n",
    "np.random.seed(0)\n",
    "a1=np.random.randint(0,10,(3,4))\n",
    "a11=np.random.randint(0,20,(3,2))\n",
    "a2=np.random.randint(0,20,(4,3))\n",
    "a22=np.random.randint(0,10,(2,3))\n",
    "\n",
    "a3=np.concatenate((a1,a11),axis=1)\n",
    "display_shape(a3)\n",
    "a4=np.concatenate((a2,a22),axis=0)\n",
    "display_shape(a4)\n"
   ]
  },
  {
   "cell_type": "code",
   "execution_count": 5,
   "metadata": {},
   "outputs": [
    {
     "name": "stdout",
     "output_type": "stream",
     "text": [
      "\n",
      "[0 1 2 3 4 5 6 7 8 9]\n",
      "Number of elements in a= 10\n",
      "Number of dimensions in a= 1\n",
      "Rows and Columns in a (10,)\n",
      "\n",
      "[0 1] [2 3] [4 5] [6 7] [8 9]\n"
     ]
    }
   ],
   "source": [
    "#17.\n",
    "a_array=np.arange(10)\n",
    "display_shape(a_array)\n",
    "a1,a2,a3,a4,a5=np.split(a_array,[2,4,6,8])\n",
    "print(a1,a2,a3,a4,a5)"
   ]
  },
  {
   "cell_type": "code",
   "execution_count": 40,
   "metadata": {},
   "outputs": [
    {
     "name": "stdout",
     "output_type": "stream",
     "text": [
      "\n",
      "[[5 0 3]\n",
      " [3 7 9]\n",
      " [3 5 2]\n",
      " [4 7 6]]\n",
      "Number of elements in a= 12\n",
      "Number of dimensions in a= 2\n",
      "Rows and Columns in a (4, 3)\n",
      "\n",
      "[[3 0 2]\n",
      " [3 5 3]\n",
      " [4 7 6]\n",
      " [5 7 9]]\n",
      "\n",
      "[[1 2 0]\n",
      " [0 2 1]\n",
      " [0 2 1]\n",
      " [0 1 2]]\n"
     ]
    }
   ],
   "source": [
    "#18.\n",
    "np.random.seed(0)\n",
    "a1=np.random.randint(0,10,(4,3))\n",
    "display_shape(a1)\n",
    "a1.sort(axis=0)\n",
    "print(a1,end=\"\\n\\n\")\n",
    "print(a1.argsort())"
   ]
  },
  {
   "cell_type": "code",
   "execution_count": 47,
   "metadata": {},
   "outputs": [
    {
     "name": "stdout",
     "output_type": "stream",
     "text": [
      "[5 0 3 3 7 9 3 5 2 4 7 6 8 8 1 6 7 7 8 1]\n",
      "3 7 3\n"
     ]
    }
   ],
   "source": [
    "#19.\n",
    "np.random.seed(0)\n",
    "a1=np.random.randint(0,10,size=20)\n",
    "print(a1)\n",
    "print(a1[2],a1[4],a1[6])"
   ]
  },
  {
   "cell_type": "code",
   "execution_count": 49,
   "metadata": {},
   "outputs": [
    {
     "name": "stdout",
     "output_type": "stream",
     "text": [
      "[5 0 3 3 7 9 3 5 2 4]\n",
      "[  5   0   3   3   7 999   3   5   2   4]\n"
     ]
    }
   ],
   "source": [
    "#20.\n",
    "np.random.seed(0)\n",
    "a1=np.random.randint(0,10,size=10)\n",
    "print(a1)\n",
    "a1[5]=999\n",
    "print(a1)"
   ]
  },
  {
   "cell_type": "code",
   "execution_count": null,
   "metadata": {},
   "outputs": [],
   "source": [
    "#21.\n"
   ]
  },
  {
   "cell_type": "code",
   "execution_count": 7,
   "metadata": {},
   "outputs": [
    {
     "ename": "KeyboardInterrupt",
     "evalue": "",
     "output_type": "error",
     "traceback": [
      "\u001b[1;31m---------------------------------------------------------------------------\u001b[0m",
      "\u001b[1;31mKeyboardInterrupt\u001b[0m                         Traceback (most recent call last)",
      "\u001b[1;32mc:\\Users\\murat\\Documents\\PhytonProjects\\nump2\\numpyHw.ipynb Cell 13'\u001b[0m in \u001b[0;36m<cell line: 9>\u001b[1;34m()\u001b[0m\n\u001b[0;32m      <a href='vscode-notebook-cell:/c%3A/Users/murat/Documents/PhytonProjects/nump2/numpyHw.ipynb#ch0000012?line=7'>8</a>\u001b[0m \u001b[39mwhile\u001b[39;00m \u001b[39mTrue\u001b[39;00m:\n\u001b[0;32m      <a href='vscode-notebook-cell:/c%3A/Users/murat/Documents/PhytonProjects/nump2/numpyHw.ipynb#ch0000012?line=8'>9</a>\u001b[0m     count \u001b[39m+\u001b[39m\u001b[39m=\u001b[39m \u001b[39m1\u001b[39m\n\u001b[1;32m---> <a href='vscode-notebook-cell:/c%3A/Users/murat/Documents/PhytonProjects/nump2/numpyHw.ipynb#ch0000012?line=9'>10</a>\u001b[0m     mat_1 \u001b[39m=\u001b[39m np\u001b[39m.\u001b[39;49mrandom\u001b[39m.\u001b[39;49mrandom((\u001b[39m2\u001b[39;49m, \u001b[39m2\u001b[39;49m))\n\u001b[0;32m     <a href='vscode-notebook-cell:/c%3A/Users/murat/Documents/PhytonProjects/nump2/numpyHw.ipynb#ch0000012?line=10'>11</a>\u001b[0m     \u001b[39m# print('mat1', mat_1 )\u001b[39;00m\n\u001b[0;32m     <a href='vscode-notebook-cell:/c%3A/Users/murat/Documents/PhytonProjects/nump2/numpyHw.ipynb#ch0000012?line=11'>12</a>\u001b[0m     mat_2 \u001b[39m=\u001b[39m np\u001b[39m.\u001b[39mrandom\u001b[39m.\u001b[39mrandom((\u001b[39m2\u001b[39m,\u001b[39m2\u001b[39m))\n",
      "\u001b[1;31mKeyboardInterrupt\u001b[0m: "
     ]
    }
   ],
   "source": [
    "#masterodev.\n",
    "import numpy as np\n",
    "import time\n",
    "start_time = time.time()\n",
    "count = 0\n",
    "# flag = 1\n",
    "number = 3\n",
    "while True:\n",
    "    count += 1\n",
    "    mat_1 = np.random.random((2, 2))\n",
    "    # print('mat1', mat_1 )\n",
    "    mat_2 = np.random.random((2,2))\n",
    "    # print('mat2', mat_2 )\n",
    "    diago = np.diag(mat_1 - mat_2)\n",
    "    # print('diago', diago)\n",
    "    if 10 < diago.any() and diago.any() < 10:\n",
    "        print('I got it!')\n",
    "        print('diago', diago)\n",
    "        break\n",
    "    else:\n",
    "        continue\n",
    "finish_time = time.time()\n",
    "print('Elapsed Time : ', finish_time - start_time )\n",
    "print()\n",
    "print('Loop Number  : ', count)\n",
    "print()\n",
    "print('Matris       : ', mat_1 - mat_2)\n",
    "print()"
   ]
  }
 ],
 "metadata": {
  "kernelspec": {
   "display_name": "Python 3.9.12 64-bit",
   "language": "python",
   "name": "python3"
  },
  "language_info": {
   "codemirror_mode": {
    "name": "ipython",
    "version": 3
   },
   "file_extension": ".py",
   "mimetype": "text/x-python",
   "name": "python",
   "nbconvert_exporter": "python",
   "pygments_lexer": "ipython3",
   "version": "3.9.12"
  },
  "orig_nbformat": 4,
  "vscode": {
   "interpreter": {
    "hash": "8524bb94f7d59c8879262837f48ac7ff80a0ba347969bee7729c2184f63e59c7"
   }
  }
 },
 "nbformat": 4,
 "nbformat_minor": 2
}
